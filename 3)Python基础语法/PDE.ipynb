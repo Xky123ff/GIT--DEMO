{
 "cells": [
  {
   "cell_type": "markdown",
   "id": "70fc6c87",
   "metadata": {},
   "source": [
    "# PDE 求通解"
   ]
  },
  {
   "cell_type": "markdown",
   "id": "07b046e2",
   "metadata": {},
   "source": [
    "这是一个求解偏微分方程的柯西问题。\n",
    "\n",
    "**偏微分方程 (PDE):**\n",
    "\n",
    "$$x \\cdot u_x - 3y \\cdot u_y = 2x^2 \\cdot u$$\n",
    "\n",
    "**初始条件:**\n",
    "\n",
    "$$u(t, t^2) = e^{t^2}$$"
   ]
  },
  {
   "cell_type": "code",
   "execution_count": null,
   "id": "8c239686",
   "metadata": {},
   "outputs": [],
   "source": [
    "import sympy as sp\n",
    "\n",
    "x,y = sp.symbols('x y')\n",
    "u = sp.Function('u')(x,y)\n",
    "\n",
    "pde = sp.Eq(x*sp.diff(u,x)-3*y*sp.diff(u,y),2*x**2*u)\n",
    " \n",
    "solution = sp.pdsolve(pde)\n"
   ]
  },
  {
   "cell_type": "code",
   "execution_count": 3,
   "id": "4a790f03",
   "metadata": {},
   "outputs": [
    {
     "data": {
      "text/latex": [
       "$\\displaystyle u{\\left(x,y \\right)} = F{\\left(x^{3} y \\right)} e^{x^{2}}$"
      ],
      "text/plain": [
       "Eq(u(x, y), F(x**3*y)*exp(x**2))"
      ]
     },
     "execution_count": 3,
     "metadata": {},
     "output_type": "execute_result"
    }
   ],
   "source": [
    "solution"
   ]
  },
  {
   "cell_type": "code",
   "execution_count": 4,
   "id": "a28876e2",
   "metadata": {},
   "outputs": [
    {
     "data": {
      "text/latex": [
       "$\\displaystyle F{\\left(x^{3} y \\right)} e^{x^{2}}$"
      ],
      "text/plain": [
       "F(x**3*y)*exp(x**2)"
      ]
     },
     "execution_count": 4,
     "metadata": {},
     "output_type": "execute_result"
    }
   ],
   "source": [
    "solution.rhs"
   ]
  }
 ],
 "metadata": {
  "kernelspec": {
   "display_name": "xxy",
   "language": "python",
   "name": "python3"
  },
  "language_info": {
   "codemirror_mode": {
    "name": "ipython",
    "version": 3
   },
   "file_extension": ".py",
   "mimetype": "text/x-python",
   "name": "python",
   "nbconvert_exporter": "python",
   "pygments_lexer": "ipython3",
   "version": "3.9.23"
  }
 },
 "nbformat": 4,
 "nbformat_minor": 5
}
