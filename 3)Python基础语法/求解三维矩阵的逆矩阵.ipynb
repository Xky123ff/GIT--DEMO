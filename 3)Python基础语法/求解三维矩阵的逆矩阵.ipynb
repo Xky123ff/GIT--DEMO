{
 "cells": [
  {
   "cell_type": "markdown",
   "id": "6d4c0a89",
   "metadata": {},
   "source": [
    "# 求解三维矩阵的逆矩阵"
   ]
  },
  {
   "cell_type": "code",
   "execution_count": 2,
   "id": "d3ae37d6",
   "metadata": {},
   "outputs": [
    {
     "name": "stdout",
     "output_type": "stream",
     "text": [
      "逆矩阵： [[ 1.  -0.5  0. ]\n",
      " [ 0.   0.5  0. ]\n",
      " [ 1.  -2.   1. ]]\n"
     ]
    }
   ],
   "source": [
    "import numpy as np\n",
    "\n",
    "# 定义3x3矩阵\n",
    "A = np.array([[1,   1, 0],\n",
    "              [0, 2, 0],\n",
    "              [-1, 3, 1]])\n",
    "\n",
    "# 计算逆矩阵\n",
    "A_inv = np.linalg.inv(A)\n",
    "print(\"逆矩阵：\", A_inv)\n"
   ]
  }
 ],
 "metadata": {
  "kernelspec": {
   "display_name": "xxy",
   "language": "python",
   "name": "python3"
  },
  "language_info": {
   "codemirror_mode": {
    "name": "ipython",
    "version": 3
   },
   "file_extension": ".py",
   "mimetype": "text/x-python",
   "name": "python",
   "nbconvert_exporter": "python",
   "pygments_lexer": "ipython3",
   "version": "3.9.23"
  }
 },
 "nbformat": 4,
 "nbformat_minor": 5
}
