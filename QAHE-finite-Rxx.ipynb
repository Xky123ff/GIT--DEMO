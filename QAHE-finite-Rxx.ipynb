{
 "cells": [
  {
   "cell_type": "markdown",
   "metadata": {},
   "source": [
    "### quasi-helical edge state adding chiral edge state"
   ]
  },
  {
   "cell_type": "markdown",
   "metadata": {},
   "source": [
    "Results\n",
    "\n",
    "note:\n",
    "1. values of the leads voltage is relative.\n",
    "   1. In the paper PRL 111. 086803, the voltage of lead-1 is set as zero and the voltage of lead-4 is set as 1\n",
    "   2. In the following calculation, the voltage of lead-1 is set as zero, and the voltage values of other leads is relative to it and divided the current I.\n",
    "2. this part is better to read along with the note “multi-terminal-measurements.pdf” (1st section, 6 terminal (the standard Hall bar))"
   ]
  },
  {
   "cell_type": "code",
   "execution_count": null,
   "metadata": {},
   "outputs": [],
   "source": [
    "import numpy as np\n",
    "import matplotlib.pyplot as plt"
   ]
  },
  {
   "cell_type": "code",
   "execution_count": null,
   "metadata": {},
   "outputs": [],
   "source": [
    "def find_voltages(tmatrix,current):\n",
    "    try:\n",
    "        voltage = np.linalg.solve(tmatrix[1:, 1:], current[1:])\n",
    "    except np.linalg.LinAlgError as err:\n",
    "        if 'Singular matrix' in str(err):\n",
    "            print(\"Hi there, singular matrix here\")\n",
    "            voltage = [0,0,0,0,0]\n",
    "        else:\n",
    "            raise\n",
    "    return [0, *voltage]\n",
    "\n",
    "def resistance_xx(tmatrix):\n",
    "    current = [1, 0, 0, -1, 0, 0]\n",
    "    voltage = find_voltages(tmatrix,current)\n",
    "    \n",
    "    def resistance(lead1, lead2):\n",
    "        return voltage[lead1-1]-voltage[lead2-1]\n",
    "\n",
    "    return resistance(2, 3)\n",
    "\n",
    "def resistance_xy(tmatrix):\n",
    "    current = [1, 0, 0, -1, 0, 0]\n",
    "    voltage = find_voltages(tmatrix,current)\n",
    "    \n",
    "    def resistance(lead1, lead2):\n",
    "        return voltage[lead1-1]-voltage[lead2-1]\n",
    "\n",
    "    return resistance(2, 6)"
   ]
  },
  {
   "cell_type": "code",
   "execution_count": null,
   "metadata": {},
   "outputs": [],
   "source": [
    "current= [-1, 0, 0, 1, 0, 0]\n",
    "\n",
    "def tmatrix(l,r):\n",
    "    return np.array([[l+r,-r,0,0,0,-l], [-l,l+r,-r,0,0,0], [0,-l,l+r,-r,0,0], [0,0,-l,l+r,-r,0], [0,0,0,-l,l+r,-r], [-r,0,0,0,-l,l+r] ])\n",
    "\n",
    "def pv(l,r):\n",
    "    plt.scatter(range(1,7), find_voltages(tmatrix(l,r),current))\n",
    "\n",
    "def rm(l,r):\n",
    "    return resistance_xx(tmatrix(l,r)), resistance_xy(tmatrix(l,r))"
   ]
  },
  {
   "cell_type": "code",
   "execution_count": null,
   "metadata": {},
   "outputs": [],
   "source": [
    "pv(1,0)\n",
    "plt.title(\"QAHE\", size='xx-large');\n",
    "plt.xlabel('index of the leads')\n",
    "plt.ylabel('V/I')"
   ]
  },
  {
   "cell_type": "code",
   "execution_count": null,
   "metadata": {},
   "outputs": [],
   "source": [
    "pv(1,1)\n",
    "plt.title(\"QSHE\", size='xx-large');"
   ]
  },
  {
   "cell_type": "code",
   "execution_count": null,
   "metadata": {},
   "outputs": [],
   "source": [
    "find_voltages(tmatrix(1,1),current)"
   ]
  },
  {
   "cell_type": "code",
   "execution_count": null,
   "metadata": {},
   "outputs": [],
   "source": [
    "pv(2,1)\n",
    "plt.title(\"QAHE+QSHE\", size='xx-large');"
   ]
  },
  {
   "cell_type": "code",
   "execution_count": null,
   "metadata": {},
   "outputs": [],
   "source": [
    "find_voltages(tmatrix(2,1),current)"
   ]
  },
  {
   "cell_type": "code",
   "execution_count": null,
   "metadata": {},
   "outputs": [],
   "source": [
    "rm(2,1)"
   ]
  },
  {
   "cell_type": "code",
   "execution_count": null,
   "metadata": {},
   "outputs": [],
   "source": [
    "kl=0.1\n",
    "kr=0.12\n",
    "pv(1+kl,kr)\n",
    "plt.title(\"QAHE+(quasi-QSHE)\", size='xx-large');"
   ]
  },
  {
   "cell_type": "code",
   "execution_count": null,
   "metadata": {},
   "outputs": [],
   "source": [
    "rm(1+kl,kr)"
   ]
  },
  {
   "cell_type": "markdown",
   "metadata": {},
   "source": [
    "##### code details"
   ]
  },
  {
   "cell_type": "code",
   "execution_count": null,
   "metadata": {},
   "outputs": [],
   "source": [
    "current= [-1, 0, 0, 1, 0, 0]"
   ]
  },
  {
   "cell_type": "code",
   "execution_count": null,
   "metadata": {},
   "outputs": [],
   "source": [
    "tmatrix= [[1,-1,0,0,0,0],\n",
    "          [0,1,-1,0,0,0],\n",
    "          [0,0,1,-1,0,0],\n",
    "          [0,0,0,1,-1,0],\n",
    "          [0,0,0,0,1,-1],\n",
    "          [-1,0,0,0,0,1]\n",
    "          ]\n",
    "tmatrix=np.array(tmatrix)\n",
    "tmatrix"
   ]
  },
  {
   "cell_type": "code",
   "execution_count": null,
   "metadata": {},
   "outputs": [],
   "source": [
    "find_voltages(tmatrix,current)"
   ]
  },
  {
   "cell_type": "code",
   "execution_count": null,
   "metadata": {},
   "outputs": [],
   "source": [
    "plt.scatter(range(1,7),find_voltages(tmatrix,current))"
   ]
  },
  {
   "cell_type": "code",
   "execution_count": null,
   "metadata": {},
   "outputs": [],
   "source": [
    "c_l=1\n",
    "c_r=0\n",
    "\n",
    "tmatrix= [[c_l+c_r,-c_r,0,0,0,-c_l],\n",
    "          [-c_l,c_l+c_r,-c_r,0,0,0],\n",
    "          [0,-c_l,c_l+c_r,-c_r,0,0],\n",
    "          [0,0,-c_l,c_l+c_r,-c_r,0],\n",
    "          [0,0,0,-c_l,c_l+c_r,-c_r],\n",
    "          [-c_r,0,0,0,-c_l,c_l+c_r]\n",
    "          ]\n",
    "tmatrix=np.array(tmatrix)\n",
    "tmatrix"
   ]
  },
  {
   "cell_type": "code",
   "execution_count": null,
   "metadata": {},
   "outputs": [],
   "source": [
    "plt.scatter(range(1,7),find_voltages(tmatrix,current))"
   ]
  },
  {
   "cell_type": "code",
   "execution_count": null,
   "metadata": {},
   "outputs": [],
   "source": []
  },
  {
   "cell_type": "markdown",
   "metadata": {},
   "source": [
    "### The system of chiral edge state coupling"
   ]
  },
  {
   "cell_type": "markdown",
   "metadata": {},
   "source": [
    "In the paper (s11433-023-2115-7), the lattice constant a=1 nm, and the Fermi energy is taken as E_F=3 meV.\n",
    "However, if also use the magnetic topological insulator model for the leads, the E_F need to take values higher than about 8 meV to avoid the gap region in the small m cases."
   ]
  },
  {
   "cell_type": "code",
   "execution_count": null,
   "metadata": {},
   "outputs": [],
   "source": [
    "import kwant\n",
    "import numpy as np\n",
    "import matplotlib.pyplot as plt\n",
    "import tinyarray\n",
    "\n",
    "sigma_0 = tinyarray.array([[1, 0], [0, 1]])\n",
    "sigma_x = tinyarray.array([[0, 1], [1, 0]])\n",
    "sigma_y = tinyarray.array([[0, -1j], [1j, 0]])\n",
    "sigma_z = tinyarray.array([[1, 0], [0, -1]])\n",
    "\n",
    "I_4= tinyarray.array(np.kron(sigma_0, sigma_0))\n",
    "gamma_1 = tinyarray.array(np.kron(sigma_0, sigma_z))\n",
    "gamma_2 = tinyarray.array(np.kron(sigma_z, sigma_z))\n",
    "gamma_3 = tinyarray.array(np.kron(sigma_0, sigma_y))\n",
    "gamma_4 = tinyarray.array(np.kron(sigma_0, sigma_x))\n",
    "\n",
    "B=-300\n",
    "g=300\n",
    "las=1\n",
    "\n",
    "structure=kwant.lattice.square(las)\n",
    "model_sym= kwant.TranslationalSymmetry(structure.vec((-1,0)),structure.vec((0,-1)))\n",
    "\n",
    "def onsite(site,m):\n",
    "    return m/2*gamma_1 - (4*B)/las**2 * gamma_2\n",
    "\n",
    "hopping_x = B/(las**2)*gamma_2 + 1j*g/(2*las)*gamma_3\n",
    "hopping_y = B/(las**2)*gamma_2 - 1j*g/(2*las)*gamma_4\n",
    "\n",
    "def model_MTI():\n",
    "    model_1= kwant.Builder(model_sym)\n",
    "\n",
    "    model_1[structure(0, 0)] = onsite\n",
    "    model_1[kwant.builder.HoppingKind((1,0), structure)]  = hopping_x\n",
    "    model_1[kwant.builder.HoppingKind((0,1), structure)]  = hopping_y\n",
    "\n",
    "    return model_1\n",
    "\n",
    "def model_EG():\n",
    "\n",
    "    onsite_leads= 150 *I_4\n",
    "    hopping_leads= -150 *I_4\n",
    "\n",
    "    model_2= kwant.Builder(model_sym)\n",
    "    model_2[structure(0, 0)] = onsite_leads\n",
    "    model_2[structure.neighbors()]  = hopping_leads\n",
    "\n",
    "    return model_2\n",
    "\n",
    "def make_syst(width=50,length=100,leads_model=model_EG()):\n",
    "    \n",
    "    ########### create the scattering center\n",
    "\n",
    "    def shape_center(site):\n",
    "        x, y = site.pos\n",
    "        return 0 < x <= length and 0 < y <= width\n",
    "\n",
    "    syst= kwant.Builder()\n",
    "    syst.fill(model_MTI(), shape_center,(1,1))\n",
    "\n",
    "    ########### create the leads\n",
    "\n",
    "    width_lead = length//5\n",
    "\n",
    "    lead0= kwant.Builder(kwant.TranslationalSymmetry((-1,0)))\n",
    "    lead1= kwant.Builder(kwant.TranslationalSymmetry((0,1)))\n",
    "    lead2= kwant.Builder(kwant.TranslationalSymmetry((0,1)))\n",
    "\n",
    "    def shape_lead0(site):\n",
    "        x, y = site.pos\n",
    "        return 0 < y <= width\n",
    "\n",
    "    def shape_lead1(site):\n",
    "        x, y = site.pos\n",
    "        return width_lead < x <= 2*width_lead\n",
    "\n",
    "    def shape_lead2(site):\n",
    "        x, y = site.pos\n",
    "        return 3*width_lead < x <= 4*width_lead\n",
    "\n",
    "    lead0.fill(leads_model, shape_lead0, (0, 1))\n",
    "    lead1.fill(leads_model, shape_lead1, (width_lead+1, 0))\n",
    "    lead2.fill(leads_model, shape_lead2, (3*width_lead+1, 0))\n",
    "\n",
    "    ########### create the six-terminal device\n",
    "    for lead in [lead0,lead1,lead2, lead0.reversed(),lead2.reversed(),lead1.reversed()]:\n",
    "        syst.attach_lead(lead)\n",
    "\n",
    "    return syst.finalized()\n"
   ]
  },
  {
   "cell_type": "code",
   "execution_count": null,
   "metadata": {},
   "outputs": [],
   "source": [
    "fig, (ax1,ax2) = plt.subplots(1,2)\n",
    "fig.suptitle('band structure of left lead')\n",
    "\n",
    "ax1.set_ylabel('Energy (meV)')\n",
    "ax1.set_title('m=30,width=30')\n",
    "ax2.set_title('m=30,width=100')\n",
    "for ax in (ax1,ax2):\n",
    "    ax.set_xlabel('k (nm^-1)')\n",
    "    ax.set_ylim(-150,150)\n",
    "    ax.set_xlim(-0.5,0.5)\n",
    "\n",
    "syst1=make_syst(width=30,leads_model=model_MTI()).leads[0]\n",
    "syst2=make_syst(width=100,leads_model=model_MTI()).leads[0]\n",
    "\n",
    "kwant.plotter.bands(syst1,momenta=np.linspace(-0.5, 0.5, 100), ax=ax1, params=dict(m=30));\n",
    "kwant.plotter.bands(syst2,momenta=np.linspace(-0.5, 0.5, 100), ax=ax2, params=dict(m=30));"
   ]
  },
  {
   "cell_type": "code",
   "execution_count": null,
   "metadata": {},
   "outputs": [],
   "source": [
    "syst1=make_syst(width=60,leads_model=model_MTI()).leads[0]\n",
    "\n",
    "fig, (ax1,ax2,ax3,ax4,ax5) = plt.subplots(1,5, figsize=(14, 4))\n",
    "fig.suptitle('band structure of left lead', size='xx-large')\n",
    "\n",
    "ax1.set_ylabel('Energy (meV)')\n",
    "for ax in zip((ax1,ax2,ax3,ax4,ax5),(0,5,10,20,30)):\n",
    "    ax[0].set_xlabel('k (nm^-1)')\n",
    "    ax[0].set_ylim(-15,15)\n",
    "    ax[0].set_xlim(-0.05,0.05)\n",
    "    ax[0].set_title(f'm={ax[1]}')\n",
    "    kwant.plotter.bands(syst1,momenta=np.linspace(-0.05, 0.05, 50), ax=ax[0], params=dict(m=ax[1]));\n"
   ]
  },
  {
   "cell_type": "code",
   "execution_count": null,
   "metadata": {},
   "outputs": [],
   "source": [
    "syst=make_syst(width=60,length=300,leads_model=model_MTI())\n",
    "kwant.plot(syst);"
   ]
  },
  {
   "cell_type": "code",
   "execution_count": null,
   "metadata": {},
   "outputs": [],
   "source": [
    "tmatrix = kwant.smatrix(syst, 3.0,params=dict(m=30))\n",
    "tm=tmatrix.conductance_matrix()\n",
    "np.round(tm,2)"
   ]
  },
  {
   "cell_type": "code",
   "execution_count": null,
   "metadata": {},
   "outputs": [],
   "source": [
    "def find_voltages(tmatrix,current):\n",
    "    try:\n",
    "        voltage = np.linalg.solve(tmatrix[1:, 1:], current[1:])\n",
    "    except np.linalg.LinAlgError as err:\n",
    "        if 'Singular matrix' in str(err):\n",
    "            print(\"Hi there, singular matrix here\")\n",
    "            voltage = [0,0,0,0,0]\n",
    "        else:\n",
    "            raise\n",
    "    return [0, *voltage]\n",
    "\n",
    "def resistance_xx(tmatrix):\n",
    "    current = [1, 0, 0, -1, 0, 0]\n",
    "    voltage = find_voltages(tmatrix,current)\n",
    "    \n",
    "    def resistance(lead1, lead2):\n",
    "        return voltage[lead1-1]-voltage[lead2-1]\n",
    "\n",
    "    return resistance(2, 3)\n",
    "\n",
    "def resistance_xy(tmatrix):\n",
    "    current = [1, 0, 0, -1, 0, 0]\n",
    "    voltage = find_voltages(tmatrix,current)\n",
    "    \n",
    "    def resistance(lead1, lead2):\n",
    "        return voltage[lead1-1]-voltage[lead2-1]\n",
    "\n",
    "    return resistance(2, 6)\n",
    "\n",
    "def rMplot(m_list, data, ptitle='resistance vs m'):\n",
    "    rxx=[]\n",
    "    rxy=[]\n",
    "    for i in range(data.shape[0]):\n",
    "        rxx.append(resistance_xx(data[i]))\n",
    "        rxy.append(resistance_xy(data[i]))\n",
    "\n",
    "    plt.plot(m_list,rxx,'-o', label='$R_{xx}$')\n",
    "    plt.plot(m_list,rxy,'-o', label='$R_{xy}$')\n",
    "\n",
    "    plt.title(ptitle, size='xx-large')\n",
    "    plt.xlabel('m')\n",
    "    plt.ylabel('Resistance')\n",
    "    plt.legend()\n",
    "\n",
    "\n",
    "# define a function to plot the resistance vs energy\n",
    "# here, \"data\" is a \"np.array\", a list (different energy) of 6*6 transimission matrices=[]\n",
    "def rEplot(energies, data, ptitle='resistance vs energy'):\n",
    "    rxx=[]\n",
    "    rxy=[]\n",
    "    for i in range(data.shape[0]):\n",
    "        rxx.append(resistance_xx(data[i]))\n",
    "        rxy.append(resistance_xy(data[i]))\n",
    "\n",
    "    plt.plot(energies,rxx,'-o', label='$R_{xx}$')\n",
    "    plt.plot(energies,rxy,'-o', label='$R_{xy}$')\n",
    "\n",
    "    plt.title(ptitle, size='xx-large')\n",
    "    plt.xlabel('Energy')\n",
    "    plt.ylabel('Resistance')\n",
    "    plt.legend()\n",
    "\n"
   ]
  },
  {
   "cell_type": "code",
   "execution_count": null,
   "metadata": {},
   "outputs": [],
   "source": [
    "data=[]\n",
    "m_range=np.linspace(-25,25,num=20)\n",
    "for m_value in m_range:\n",
    "    tmatrix = kwant.smatrix(syst, 9.0,params=dict(m=m_value))\n",
    "    data.append(tmatrix.conductance_matrix())\n",
    "\n",
    "# cost around 2 mins"
   ]
  },
  {
   "cell_type": "code",
   "execution_count": null,
   "metadata": {},
   "outputs": [],
   "source": [
    "rMplot(m_range,np.array(data))"
   ]
  },
  {
   "cell_type": "code",
   "execution_count": null,
   "metadata": {},
   "outputs": [],
   "source": [
    "np.round(data[0],2)"
   ]
  },
  {
   "cell_type": "code",
   "execution_count": null,
   "metadata": {},
   "outputs": [],
   "source": [
    "np.round(data[3],2)"
   ]
  },
  {
   "cell_type": "code",
   "execution_count": null,
   "metadata": {},
   "outputs": [],
   "source": [
    "np.round(data[6],2)"
   ]
  },
  {
   "cell_type": "code",
   "execution_count": null,
   "metadata": {},
   "outputs": [],
   "source": [
    "def rMplot_m(m_list, data, lead1=2,lead2=5, ptitle='resistance vs m'):\n",
    "    current = [1, 0, 0, -1, 0, 0]\n",
    "    rx=[]\n",
    "    for i in range(data.shape[0]):\n",
    "        voltage = find_voltages(data[i],current)\n",
    "        rx.append(voltage[lead1-1]-voltage[lead2-1])\n",
    "\n",
    "    plt.plot(m_list,rx,'-o', label=f'$R {lead1},{lead2}$')\n",
    "\n",
    "    plt.title(ptitle, size='xx-large')\n",
    "    plt.xlabel('m')\n",
    "    plt.ylabel('Resistance')\n",
    "    plt.legend()\n",
    "\n",
    "rMplot_m(m_range,np.array(data),2,5)\n",
    "rMplot_m(m_range,np.array(data),2,6)\n",
    "rMplot_m(m_range,np.array(data),6,5)"
   ]
  },
  {
   "cell_type": "code",
   "execution_count": null,
   "metadata": {},
   "outputs": [],
   "source": [
    "syst=make_syst(width=60,length=300,leads_model=model_MTI())"
   ]
  },
  {
   "cell_type": "code",
   "execution_count": null,
   "metadata": {},
   "outputs": [],
   "source": [
    "data=[]\n",
    "e_range=np.linspace(0,15,num=20)\n",
    "for energy in e_range:\n",
    "    tmatrix = kwant.smatrix(syst, energy,params=dict(m=20))\n",
    "    data.append(tmatrix.conductance_matrix())"
   ]
  },
  {
   "cell_type": "code",
   "execution_count": null,
   "metadata": {},
   "outputs": [],
   "source": [
    "rEplot(e_range,np.array(data),\"m=20\")"
   ]
  },
  {
   "cell_type": "code",
   "execution_count": null,
   "metadata": {},
   "outputs": [],
   "source": [
    "data=[]\n",
    "e_range=np.linspace(0,15,num=20)\n",
    "for energy in e_range:\n",
    "    tmatrix = kwant.smatrix(syst, energy,params=dict(m=40))\n",
    "    data.append(tmatrix.conductance_matrix())"
   ]
  },
  {
   "cell_type": "code",
   "execution_count": null,
   "metadata": {},
   "outputs": [],
   "source": [
    "rEplot(e_range,np.array(data),\"m=40\")"
   ]
  },
  {
   "cell_type": "markdown",
   "metadata": {},
   "source": [
    "The model is not a TI when m=0, no QSHE tranport signature.\n",
    "\n",
    "aftering comparing to BZH model, one can find that the term Δ should be non-zero for TI"
   ]
  },
  {
   "cell_type": "code",
   "execution_count": null,
   "metadata": {},
   "outputs": [],
   "source": [
    "data=[]\n",
    "e_range=np.linspace(10,15,num=20)\n",
    "for energy in e_range:\n",
    "    tmatrix = kwant.smatrix(syst, energy,params=dict(m=0))\n",
    "    data.append(tmatrix.conductance_matrix())"
   ]
  },
  {
   "cell_type": "code",
   "execution_count": null,
   "metadata": {},
   "outputs": [],
   "source": [
    "rEplot(e_range,np.array(data),\"m=0\")"
   ]
  },
  {
   "cell_type": "code",
   "execution_count": null,
   "metadata": {},
   "outputs": [],
   "source": [
    "syst1=syst.leads[0]"
   ]
  },
  {
   "cell_type": "code",
   "execution_count": null,
   "metadata": {},
   "outputs": [],
   "source": [
    "bands = kwant.physics.Bands(syst1, params=dict(m=0))\n",
    "momenta=np.linspace(-0.05, 0.05, 200)\n",
    "\n",
    "es=[]\n",
    "evs=[]\n",
    "for k in momenta:\n",
    "    tem_a,tem_b= bands(k=k,return_eigenvectors = True) \n",
    "    es.append(tem_a)\n",
    "    evs.append(tem_b)"
   ]
  },
  {
   "cell_type": "code",
   "execution_count": null,
   "metadata": {},
   "outputs": [],
   "source": [
    "zcolors=[]\n",
    "for k in range(len(momenta)):\n",
    "    tem_1=[]\n",
    "    for i in range(np.array(es).shape[1]):\n",
    "            swf=np.reshape(np.abs(evs[k][:,i])**2,(-1,2)).sum(1)\n",
    "            tem_c=swf.reshape(2,-1).sum(1)\n",
    "            tem_1.append(tem_c[0]-tem_c[1])\n",
    "    zcolors.append(tem_1)"
   ]
  },
  {
   "cell_type": "code",
   "execution_count": null,
   "metadata": {},
   "outputs": [],
   "source": [
    "for i in range(np.array(es).shape[1]):\n",
    "    plt.scatter(momenta,np.array(es)[:,i],s=1,c=np.array(zcolors)[:,i],cmap=\"coolwarm\",vmin=-1.,vmax=1.)\n",
    "    \n",
    "plt.plot(momenta[99], es[99][119], 'ko')\n",
    "plt.plot(momenta[95], es[95][119], 'ro')\n",
    "plt.plot(momenta[70], es[70][119], 'bo')    \n",
    "plt.ylim(-35,35)\n",
    "plt.xlabel('$k_x$')\n",
    "plt.ylabel('Energy')\n",
    "plt.colorbar();"
   ]
  },
  {
   "cell_type": "code",
   "execution_count": null,
   "metadata": {},
   "outputs": [],
   "source": [
    "swf1=np.abs(evs[70][:,119])**2\n",
    "swf2=np.abs(evs[95][:,119])**2\n",
    "swf3=np.abs(evs[99][:,119])**2\n",
    "fig,(ax1,ax2,ax3)=plt.subplots(1,3, figsize=(15,5))\n",
    "ax1.plot(range(60),swf1.reshape((-1,4)).sum(1),'-o')\n",
    "ax2.plot(range(60),swf2.reshape((-1,4)).sum(1),'-o')\n",
    "ax3.plot(range(60),swf3.reshape((-1,4)).sum(1),'-o')\n",
    "\n",
    "for ax in (ax1,ax2,ax3):\n",
    "    ax.set_xlabel('position (60-lattice-width)')\n",
    "ax1.set_ylabel('possibility of the wavefunction')\n",
    "\n",
    "# 1. take the absolute value of the wavefunction and make the square\n",
    "# 2. split the \"array1\" into parts (each parts has 4 values, i.e. the inner freedom of 4 at the same site is grouped) by using np.reshape(array1,(-1,4)), check the example-1 below\n",
    "# 3. sum the parts splitted, i.e. sum the inner freedom of 4"
   ]
  },
  {
   "cell_type": "markdown",
   "metadata": {},
   "source": [
    "QSHE (finite Δ in the model)"
   ]
  },
  {
   "cell_type": "code",
   "execution_count": null,
   "metadata": {},
   "outputs": [],
   "source": [
    "import kwant\n",
    "import numpy as np\n",
    "import matplotlib.pyplot as plt\n",
    "import tinyarray\n",
    "\n",
    "sigma_0 = tinyarray.array([[1, 0], [0, 1]])\n",
    "sigma_x = tinyarray.array([[0, 1], [1, 0]])\n",
    "sigma_y = tinyarray.array([[0, -1j], [1j, 0]])\n",
    "sigma_z = tinyarray.array([[1, 0], [0, -1]])\n",
    "\n",
    "I_4= tinyarray.array(np.kron(sigma_0, sigma_0))\n",
    "gamma_1 = tinyarray.array(np.kron(sigma_0, sigma_z))\n",
    "gamma_2 = tinyarray.array(np.kron(sigma_z, sigma_z))\n",
    "gamma_3 = tinyarray.array(np.kron(sigma_0, sigma_y))\n",
    "gamma_4 = tinyarray.array(np.kron(sigma_0, sigma_x))\n",
    "\n",
    "B=-300\n",
    "g=300\n",
    "D= -20\n",
    "las=1\n",
    "\n",
    "structure=kwant.lattice.square(las)\n",
    "model_sym= kwant.TranslationalSymmetry(structure.vec((-1,0)),structure.vec((0,-1)))\n",
    "\n",
    "def onsite(site,m):\n",
    "    return m/2*gamma_1 - (4*B)/las**2 * gamma_2 + D * gamma_2\n",
    "\n",
    "hopping_x = B/(las**2)*gamma_2 + 1j*g/(2*las)*gamma_3\n",
    "hopping_y = B/(las**2)*gamma_2 - 1j*g/(2*las)*gamma_4\n",
    "\n",
    "def model_MTI():\n",
    "    model_1= kwant.Builder(model_sym)\n",
    "\n",
    "    model_1[structure(0, 0)] = onsite\n",
    "    model_1[kwant.builder.HoppingKind((1,0), structure)]  = hopping_x\n",
    "    model_1[kwant.builder.HoppingKind((0,1), structure)]  = hopping_y\n",
    "\n",
    "    return model_1\n",
    "\n",
    "def model_EG():\n",
    "\n",
    "    onsite_leads= 150 *I_4\n",
    "    hopping_leads= -150 *I_4\n",
    "\n",
    "    model_2= kwant.Builder(model_sym)\n",
    "    model_2[structure(0, 0)] = onsite_leads\n",
    "    model_2[structure.neighbors()]  = hopping_leads\n",
    "\n",
    "    return model_2\n",
    "\n",
    "def make_syst(width=50,length=100,leads_model=model_EG()):\n",
    "    \n",
    "    ########### create the scattering center\n",
    "\n",
    "    def shape_center(site):\n",
    "        x, y = site.pos\n",
    "        return 0 < x <= length and 0 < y <= width\n",
    "\n",
    "    syst= kwant.Builder()\n",
    "    syst.fill(model_MTI(), shape_center,(1,1))\n",
    "\n",
    "    ########### create the leads\n",
    "\n",
    "    width_lead = length//5\n",
    "\n",
    "    lead0= kwant.Builder(kwant.TranslationalSymmetry((-1,0)))\n",
    "    lead1= kwant.Builder(kwant.TranslationalSymmetry((0,1)))\n",
    "    lead2= kwant.Builder(kwant.TranslationalSymmetry((0,1)))\n",
    "\n",
    "    def shape_lead0(site):\n",
    "        x, y = site.pos\n",
    "        return 0 < y <= width\n",
    "\n",
    "    def shape_lead1(site):\n",
    "        x, y = site.pos\n",
    "        return width_lead < x <= 2*width_lead\n",
    "\n",
    "    def shape_lead2(site):\n",
    "        x, y = site.pos\n",
    "        return 3*width_lead < x <= 4*width_lead\n",
    "\n",
    "    lead0.fill(leads_model, shape_lead0, (0, 1))\n",
    "    lead1.fill(leads_model, shape_lead1, (width_lead+1, 0))\n",
    "    lead2.fill(leads_model, shape_lead2, (3*width_lead+1, 0))\n",
    "\n",
    "    ########### create the six-terminal device\n",
    "    for lead in [lead0,lead1,lead2, lead0.reversed(),lead2.reversed(),lead1.reversed()]:\n",
    "        syst.attach_lead(lead)\n",
    "\n",
    "    return syst.finalized()\n"
   ]
  },
  {
   "cell_type": "code",
   "execution_count": null,
   "metadata": {},
   "outputs": [],
   "source": [
    "fig, (ax1,ax2) = plt.subplots(1,2)\n",
    "fig.suptitle('band structure of left lead')\n",
    "\n",
    "ax1.set_ylabel('Energy (meV)')\n",
    "ax1.set_title('m=0,width=60')\n",
    "ax2.set_title('m=0,width=100')\n",
    "for ax in (ax1,ax2):\n",
    "    ax.set_xlabel('k (nm^-1)')\n",
    "    ax.set_ylim(-25,25)\n",
    "    ax.set_xlim(-0.5,0.5)\n",
    "\n",
    "syst1=make_syst(width=60,leads_model=model_MTI()).leads[0]\n",
    "syst2=make_syst(width=100,leads_model=model_MTI()).leads[0]\n",
    "\n",
    "kwant.plotter.bands(syst1,momenta=np.linspace(-0.5, 0.5, 100), ax=ax1, params=dict(m=0));\n",
    "kwant.plotter.bands(syst2,momenta=np.linspace(-0.5, 0.5, 100), ax=ax2, params=dict(m=0));"
   ]
  },
  {
   "cell_type": "code",
   "execution_count": null,
   "metadata": {},
   "outputs": [],
   "source": [
    "syst1=make_syst(width=60,leads_model=model_MTI()).leads[0]\n"
   ]
  },
  {
   "cell_type": "code",
   "execution_count": null,
   "metadata": {},
   "outputs": [],
   "source": [
    "bands = kwant.physics.Bands(syst1, params=dict(m=0))\n",
    "momenta=np.linspace(-0.05, 0.05, 200)\n",
    "\n",
    "es=[]\n",
    "evs=[]\n",
    "for k in momenta:\n",
    "    tem_a,tem_b= bands(k=k,return_eigenvectors = True) \n",
    "    es.append(tem_a)\n",
    "    evs.append(tem_b)"
   ]
  },
  {
   "cell_type": "code",
   "execution_count": null,
   "metadata": {},
   "outputs": [],
   "source": [
    "zcolors=[]\n",
    "for k in range(len(momenta)):\n",
    "    tem_1=[]\n",
    "    for i in range(np.array(es).shape[1]):\n",
    "            swf=np.reshape(np.abs(evs[k][:,i])**2,(-1,2)).sum(1)\n",
    "            tem_c=swf.reshape(2,-1).sum(1)\n",
    "            tem_1.append(tem_c[0]-tem_c[1])\n",
    "    zcolors.append(tem_1)"
   ]
  },
  {
   "cell_type": "code",
   "execution_count": null,
   "metadata": {},
   "outputs": [],
   "source": [
    "for i in range(np.array(es).shape[1]):\n",
    "    plt.scatter(momenta,np.array(es)[:,i],s=1,c=np.array(zcolors)[:,i],cmap=\"coolwarm\",vmin=-1.,vmax=1.)\n",
    "plt.ylim(-35,35)\n",
    "plt.xlabel('$k_x$')\n",
    "plt.ylabel('Energy')\n",
    "plt.colorbar();"
   ]
  },
  {
   "cell_type": "code",
   "execution_count": null,
   "metadata": {},
   "outputs": [],
   "source": [
    "syst=make_syst(width=60,length=300,leads_model=model_MTI())"
   ]
  },
  {
   "cell_type": "code",
   "execution_count": null,
   "metadata": {},
   "outputs": [],
   "source": [
    "data=[]\n",
    "e_range=np.linspace(10,15,num=20)\n",
    "for energy in e_range:\n",
    "    tmatrix = kwant.smatrix(syst, energy,params=dict(m=0))\n",
    "    data.append(tmatrix.conductance_matrix())"
   ]
  },
  {
   "cell_type": "code",
   "execution_count": null,
   "metadata": {},
   "outputs": [],
   "source": [
    "rEplot(e_range,np.array(data),\"m=0, TI\")"
   ]
  },
  {
   "cell_type": "code",
   "execution_count": null,
   "metadata": {},
   "outputs": [],
   "source": [
    "syst=make_syst(width=60,leads_model=model_MTI()).leads[0]"
   ]
  },
  {
   "cell_type": "code",
   "execution_count": null,
   "metadata": {},
   "outputs": [],
   "source": [
    "bands = kwant.physics.Bands(syst, params=dict(m=30))\n",
    "momenta=np.linspace(-0.05, 0.05, 200)\n",
    "\n",
    "es=[]\n",
    "evs=[]\n",
    "for k in momenta:\n",
    "    tem_a,tem_b= bands(k=k,return_eigenvectors = True) \n",
    "    es.append(tem_a)\n",
    "    evs.append(tem_b)\n",
    "\n",
    "for i in range(np.array(es).shape[1]):\n",
    "    plt.scatter(momenta,np.array(es)[:,i],s=1,c=np.array(zcolors)[:,i],cmap=\"coolwarm\",vmin=-1.,vmax=1.)\n",
    "plt.ylim(-35,35)\n",
    "plt.xlabel('$k_x$')\n",
    "plt.ylabel('Energy')\n",
    "plt.colorbar();"
   ]
  },
  {
   "cell_type": "code",
   "execution_count": null,
   "metadata": {},
   "outputs": [],
   "source": [
    "syst_A=make_syst(width=60,length=300,leads_model=model_MTI())"
   ]
  },
  {
   "cell_type": "code",
   "execution_count": null,
   "metadata": {},
   "outputs": [],
   "source": [
    "data=[]\n",
    "e_range=np.linspace(0,10,num=20)\n",
    "for energy in e_range:\n",
    "    tmatrix = kwant.smatrix(syst_A, energy,params=dict(m=30))\n",
    "    data.append(tmatrix.conductance_matrix())"
   ]
  },
  {
   "cell_type": "code",
   "execution_count": null,
   "metadata": {},
   "outputs": [],
   "source": [
    "rEplot(e_range,np.array(data),\"m=30, TI\")"
   ]
  },
  {
   "cell_type": "code",
   "execution_count": null,
   "metadata": {},
   "outputs": [],
   "source": [
    "data=[]\n",
    "e_range=np.linspace(10,20,num=20)\n",
    "for energy in e_range:\n",
    "    tmatrix = kwant.smatrix(syst_A, energy,params=dict(m=30))\n",
    "    data.append(tmatrix.conductance_matrix())"
   ]
  },
  {
   "cell_type": "code",
   "execution_count": null,
   "metadata": {},
   "outputs": [],
   "source": [
    "rEplot(e_range,np.array(data),\"m=30, TI\")"
   ]
  },
  {
   "cell_type": "code",
   "execution_count": null,
   "metadata": {},
   "outputs": [],
   "source": []
  },
  {
   "cell_type": "code",
   "execution_count": null,
   "metadata": {},
   "outputs": [],
   "source": []
  },
  {
   "cell_type": "code",
   "execution_count": null,
   "metadata": {},
   "outputs": [],
   "source": []
  },
  {
   "cell_type": "markdown",
   "metadata": {},
   "source": [
    "#### distribution of wavefuncion"
   ]
  },
  {
   "cell_type": "code",
   "execution_count": null,
   "metadata": {},
   "outputs": [],
   "source": [
    "syst1=make_syst(width=60,leads_model=model_MTI()).leads[0]\n"
   ]
  },
  {
   "cell_type": "code",
   "execution_count": null,
   "metadata": {},
   "outputs": [],
   "source": [
    "bands = kwant.physics.Bands(syst1, params=dict(m=20))\n",
    "momenta=np.linspace(-0.05, 0.05, 200)\n",
    "\n",
    "es=[]\n",
    "evs=[]\n",
    "for k in momenta:\n",
    "    tem_a,tem_b= bands(k=k,return_eigenvectors = True) \n",
    "    es.append(tem_a)\n",
    "    evs.append(tem_b)"
   ]
  },
  {
   "cell_type": "code",
   "execution_count": null,
   "metadata": {},
   "outputs": [],
   "source": [
    "[np.array(es).shape, np.array(evs).shape]\n",
    "\n",
    "# 200 k points (momenta) are taken, that is 200 states\n",
    "# there are 60 sites, and each site has a freedom of 4. Therefore, the freedom (dimension of matrix, number of bands) is 240 for each state"
   ]
  },
  {
   "cell_type": "code",
   "execution_count": null,
   "metadata": {},
   "outputs": [],
   "source": [
    "# the 100th, 96th and 70th states (k values) are chosen, the 120th energy level (band) is chosen\n",
    "plt.plot(momenta,es);\n",
    "plt.plot(momenta[99], es[99][119], 'ko')\n",
    "plt.plot(momenta[95], es[95][119], 'ro')\n",
    "plt.plot(momenta[70], es[70][119], 'bo')\n",
    "plt.ylim(-55,65)\n",
    "plt.xlabel('$k_x$')\n",
    "plt.ylabel('Energy')\n",
    "plt.title('band structure for the leads with m=20');"
   ]
  },
  {
   "cell_type": "code",
   "execution_count": null,
   "metadata": {},
   "outputs": [],
   "source": [
    "swf1=np.abs(evs[70][:,119])**2\n",
    "swf2=np.abs(evs[95][:,119])**2\n",
    "swf3=np.abs(evs[99][:,119])**2\n",
    "fig,(ax1,ax2,ax3)=plt.subplots(1,3, figsize=(15,5))\n",
    "ax1.plot(range(60),swf1.reshape((-1,4)).sum(1),'-o')\n",
    "ax2.plot(range(60),swf2.reshape((-1,4)).sum(1),'-o')\n",
    "ax3.plot(range(60),swf3.reshape((-1,4)).sum(1),'-o')\n",
    "\n",
    "for ax in (ax1,ax2,ax3):\n",
    "    ax.set_xlabel('position (60-lattice-width)')\n",
    "ax1.set_ylabel('possibility of the wavefunction')\n",
    "\n",
    "# 1. take the absolute value of the wavefunction and make the square\n",
    "# 2. split the \"array1\" into parts (each parts has 4 values, i.e. the inner freedom of 4 at the same site is grouped) by using np.reshape(array1,(-1,4)), check the example-1 below\n",
    "# 3. sum the parts splitted, i.e. sum the inner freedom of 4"
   ]
  },
  {
   "cell_type": "code",
   "execution_count": null,
   "metadata": {},
   "outputs": [],
   "source": [
    "zcolors=[]\n",
    "for k in range(len(momenta)):\n",
    "    tem_1=[]\n",
    "    for i in range(np.array(es).shape[1]):\n",
    "            swf=np.reshape(np.abs(evs[k][:,i])**2,(-1,2)).sum(1)\n",
    "            tem_c=swf.reshape(2,-1).sum(1)\n",
    "            tem_1.append(tem_c[0]-tem_c[1])\n",
    "    zcolors.append(tem_1)\n",
    "\n",
    "# 1. take the absolute value of the i-th wavefunction and make the square\n",
    "# 2. split the \"array1\" into parts (each parts has 4 values, i.e. the inner freedom of 4 at the same site is grouped) by using np.reshape(array1,(-1,4)), check the example-1 below\n",
    "# 3. sum the parts splitted, i.e. sum the inner freedom of 4\n",
    "# 4. in a similliar way, split the \"array2\" into two parts (two half part of sites) and sum each part by using \"array2.reshape(2,-1).sum(1)\"\n",
    "# 5. use the one sum of parts substract the other one.\n",
    "\n",
    "np.array(zcolors).shape"
   ]
  },
  {
   "cell_type": "code",
   "execution_count": null,
   "metadata": {},
   "outputs": [],
   "source": [
    "# example-1\n",
    "a = np.arange(16)\n",
    "a, a.reshape(-1,4), np.reshape(a,(-1,4)).sum(1)"
   ]
  },
  {
   "cell_type": "code",
   "execution_count": null,
   "metadata": {},
   "outputs": [],
   "source": [
    "for i in range(np.array(es).shape[1]):\n",
    "    plt.scatter(momenta,np.array(es)[:,i],s=1,c=np.array(zcolors)[:,i],cmap=\"coolwarm\",vmin=-1.,vmax=1.)\n",
    "plt.ylim(-55,65)\n",
    "plt.xlabel('$k_x$')\n",
    "plt.ylabel('Energy')\n",
    "plt.colorbar();"
   ]
  },
  {
   "cell_type": "code",
   "execution_count": null,
   "metadata": {},
   "outputs": [],
   "source": [
    "for i in range(np.array(es).shape[1]):\n",
    "    plt.scatter(momenta,np.array(es)[:,i],s=1,c=np.array(zcolors)[:,i],cmap=\"coolwarm\",vmin=-1.,vmax=1.)\n",
    "plt.plot(momenta[70], es[70][119], 'bo')\n",
    "plt.plot(momenta[95], es[95][119], 'ro')\n",
    "plt.plot(momenta[99], es[99][119], 'ko')\n",
    "plt.ylim(-15,15)\n",
    "plt.xlabel('$k_x$')\n",
    "plt.ylabel('Energy')\n",
    "plt.colorbar();"
   ]
  },
  {
   "cell_type": "code",
   "execution_count": null,
   "metadata": {},
   "outputs": [],
   "source": []
  },
  {
   "cell_type": "code",
   "execution_count": null,
   "metadata": {},
   "outputs": [],
   "source": []
  },
  {
   "cell_type": "code",
   "execution_count": null,
   "metadata": {},
   "outputs": [],
   "source": []
  },
  {
   "cell_type": "code",
   "execution_count": null,
   "metadata": {},
   "outputs": [],
   "source": []
  },
  {
   "cell_type": "code",
   "execution_count": null,
   "metadata": {},
   "outputs": [],
   "source": []
  },
  {
   "cell_type": "markdown",
   "metadata": {},
   "source": [
    "## old code"
   ]
  },
  {
   "cell_type": "code",
   "execution_count": null,
   "metadata": {},
   "outputs": [],
   "source": [
    "import kwant\n",
    "import numpy as np\n",
    "import matplotlib.pyplot as plt\n",
    "import tinyarray\n",
    "\n",
    "sigma_0 = tinyarray.array([[1, 0], [0, 1]])\n",
    "sigma_x = tinyarray.array([[0, 1], [1, 0]])\n",
    "sigma_y = tinyarray.array([[0, -1j], [1j, 0]])\n",
    "sigma_z = tinyarray.array([[1, 0], [0, -1]])\n",
    "\n",
    "I_4= tinyarray.array(np.kron(sigma_0, sigma_0))\n",
    "gamma_1 = tinyarray.array(np.kron(sigma_0, sigma_z))\n",
    "gamma_2 = tinyarray.array(np.kron(sigma_z, sigma_z))\n",
    "gamma_3 = tinyarray.array(np.kron(sigma_0, sigma_y))\n",
    "gamma_4 = tinyarray.array(np.kron(sigma_0, sigma_x))\n",
    "\n",
    "B=-300\n",
    "g=300\n",
    "las=1\n",
    "m=1\n",
    "width=30\n",
    "\n",
    "def make_syst(width=50,length=100):\n",
    "    \n",
    "    onsite =  m/2*gamma_1 - (4*B)/las**2 * gamma_2\n",
    "    hopping_x = B/(las**2)*gamma_2 + 1j*g/(2*las)*gamma_3\n",
    "    hopping_y = B/(las**2)*gamma_2 - 1j*g/(2*las)*gamma_4\n",
    "\n",
    "    def model():\n",
    "        structure=kwant.lattice.square(las)\n",
    "        model_sym= kwant.TranslationalSymmetry(structure.vec((-1,0)),structure.vec((0,-1)))\n",
    "        model_1= kwant.Builder(model_sym)\n",
    "\n",
    "        model_1[structure(0, 0)] = onsite\n",
    "        model_1[kwant.builder.HoppingKind((1,0), structure)]  = hopping_x\n",
    "        model_1[kwant.builder.HoppingKind((0,1), structure)]  = hopping_y\n",
    "\n",
    "        return model_1\n",
    "\n",
    "    ########### create the scattering center\n",
    "\n",
    "    def shape_center(site):\n",
    "        x, y = site.pos\n",
    "        return 0 < x <= length and 0 < y <= width\n",
    "\n",
    "    syst= kwant.Builder()\n",
    "    syst.fill(model(), shape_center,(1,1))\n",
    "\n",
    "    ########### create the leads\n",
    "\n",
    "    def electronGas_model():\n",
    "        structure=kwant.lattice.square(las)\n",
    "\n",
    "        onsite_leads= 150 *I_4\n",
    "        hopping_leads= -150 *I_4\n",
    "\n",
    "        model_sym= kwant.TranslationalSymmetry(structure.vec((-1,0)),structure.vec((0,-1)))\n",
    "        model_1= kwant.Builder(model_sym)\n",
    "\n",
    "        model_1[structure(0, 0)] = onsite_leads\n",
    "        model_1[structure.neighbors()]  = hopping_leads\n",
    "\n",
    "        return model_1\n",
    "\n",
    "    width_lead = length//5 \n",
    "\n",
    "    lead0= kwant.Builder(kwant.TranslationalSymmetry((-1,0)))\n",
    "    lead1= kwant.Builder(kwant.TranslationalSymmetry((0,1)))\n",
    "    lead2= kwant.Builder(kwant.TranslationalSymmetry((0,1)))\n",
    "\n",
    "    def shape_lead0(site):\n",
    "        x, y = site.pos\n",
    "        return 0 < y <= width\n",
    "\n",
    "    def shape_lead1(site):\n",
    "        x, y = site.pos\n",
    "        return width_lead < x <= 2*width_lead\n",
    "\n",
    "    def shape_lead2(site):\n",
    "        x, y = site.pos\n",
    "        return 3*width_lead < x <= 4*width_lead\n",
    "\n",
    "    lead0.fill(electronGas_model(), shape_lead0, (0, 1))\n",
    "    lead1.fill(electronGas_model(), shape_lead1, (width_lead+1, 0))\n",
    "    lead2.fill(electronGas_model(), shape_lead2, (3*width_lead+1, 0))\n",
    "\n",
    "    ########### create the six-terminal device\n",
    "    for lead in [lead0,lead1,lead2, lead0.reversed(),lead2.reversed(),lead1.reversed()]:\n",
    "        syst.attach_lead(lead)\n",
    "\n",
    "\n",
    "    return syst.finalized()  \n"
   ]
  },
  {
   "cell_type": "code",
   "execution_count": null,
   "metadata": {},
   "outputs": [],
   "source": [
    "fig, (ax1,ax2) = plt.subplots(1,2)\n",
    "fig.suptitle('band structure of left lead')\n",
    "\n",
    "for ax in (ax1,ax2):\n",
    "    ax.set_xlabel('k')\n",
    "    ax.set_ylabel('Energy')\n",
    "    ax.set_ylim(-150,150)\n",
    "    ax.set_xlim(-0.5,0.5)\n",
    "\n",
    "syst1=make_syst(30).leads[0]\n",
    "\n",
    "kwant.plotter.bands(syst1,momenta=np.linspace(-0.5, 0.5, 100), ax=ax1);"
   ]
  },
  {
   "cell_type": "code",
   "execution_count": null,
   "metadata": {},
   "outputs": [],
   "source": [
    "fig, (ax1,ax2) = plt.subplots(1,2)\n",
    "fig.suptitle('band structure of left lead')\n",
    "\n",
    "for ax in (ax1,ax2):\n",
    "    ax.set_xlabel('k')\n",
    "    ax.set_ylabel('Energy')\n",
    "    ax.set_ylim(-150,150)\n",
    "    ax.set_xlim(-0.5,0.5)\n",
    "\n",
    "syst1=make_syst(30).leads[0]\n",
    "syst2=make_syst(100).leads[0]\n",
    "\n",
    "kwant.plotter.bands(syst1,momenta=np.linspace(-0.5, 0.5, 100), ax=ax1);\n",
    "kwant.plotter.bands(syst2,momenta=np.linspace(-0.5, 0.5, 100), ax=ax2);"
   ]
  },
  {
   "cell_type": "code",
   "execution_count": null,
   "metadata": {},
   "outputs": [],
   "source": [
    "kwant.plot(make_syst());"
   ]
  },
  {
   "cell_type": "code",
   "execution_count": null,
   "metadata": {},
   "outputs": [],
   "source": [
    "tmatrix = kwant.smatrix(make_syst(), 3.0)\n",
    "tmatrix.conductance_matrix()"
   ]
  },
  {
   "cell_type": "code",
   "execution_count": null,
   "metadata": {},
   "outputs": [],
   "source": [
    "def find_voltages(tmatrix,current):  #注意：该函数返回的V是所有V的矩阵        #tmatrix是传输矩阵，在此处还未定义，current是电流分布[1, 0, 0, -1, 0, 0] 表示电流从端口1流入，端口4流出。\n",
    "    try:                                                            #np.linalg.solve()函数用于求解线性方程组，返回值是一个数组，数组中的每个元素是一个未知数的解   \n",
    "        voltage = np.linalg.solve(tmatrix[1:, 1:], current[1:])     #tmatrix[1:, 1:]表示tmatrix的第一行和第一列被删去 current[1:]表示current的第一个元素被删去  \n",
    "    except np.linalg.LinAlgError as err:                            #当检测到奇异矩阵时，即该函数无解，避免程序崩溃，强制返回零电压\n",
    "        if 'Singular matrix' in str(err):\n",
    "            print(\"Hi there, singular matrix here\")\n",
    "            voltage = [0,0,0,0,0]\n",
    "        else:\n",
    "            raise\n",
    "    return [0, *voltage]    ##在电压列表前添加一个 0，表示第一个端口的电压为0（参考接地）。\n",
    "  \n",
    "def resistance_xx(tmatrix):\n",
    "    current = [1, 0, 0, -1, 0, 0]\n",
    "    voltage = find_voltages(tmatrix,current)\n",
    "  \n",
    "    def resistance(lead1, lead2): \n",
    "        return voltage[lead1-1]-voltage[lead2-1] ##默认电流为1 ###将端口的序号索引转化为数组索引\n",
    "  \n",
    "    return resistance(2, 3) ##电流从端口2流入，端口3流出，电压差为V2-V3\n",
    "  \n",
    "##\n",
    "  \n",
    "def resistance_xy(tmatrix):\n",
    "    current = [1, 0, 0, -1, 0, 0]\n",
    "    voltage = find_voltages(tmatrix,current)\n",
    "  \n",
    "    def resistance(lead1, lead2):\n",
    "        return voltage[lead1-1]-voltage[lead2-1]\n",
    "  \n",
    "    return resistance(2, 6)  "
   ]
  },
  {
   "cell_type": "code",
   "execution_count": null,
   "metadata": {},
   "outputs": [],
   "source": [
    "tmatrix = kwant.smatrix(make_syst(60,300), 3.0)"
   ]
  },
  {
   "cell_type": "code",
   "execution_count": null,
   "metadata": {},
   "outputs": [],
   "source": [
    "(resistance_xy(tmatrix.conductance_matrix()),\n",
    "resistance_xx(tmatrix.conductance_matrix()))"
   ]
  },
  {
   "cell_type": "markdown",
   "metadata": {},
   "source": [
    "### band structure"
   ]
  },
  {
   "cell_type": "code",
   "execution_count": null,
   "metadata": {},
   "outputs": [],
   "source": [
    "import kwant\n",
    "import numpy as np\n",
    "import matplotlib.pyplot as plt\n",
    "import tinyarray\n",
    "\n",
    "sigma_0 = tinyarray.array([[1, 0], [0, 1]])\n",
    "sigma_x = tinyarray.array([[0, 1], [1, 0]])\n",
    "sigma_y = tinyarray.array([[0, -1j], [1j, 0]])\n",
    "sigma_z = tinyarray.array([[1, 0], [0, -1]])\n",
    "\n",
    "gamma_1 = tinyarray.array(np.kron(sigma_0, sigma_z))   \n",
    "gamma_2 = tinyarray.array(np.kron(sigma_z, sigma_z))  \n",
    "gamma_3 = tinyarray.array(np.kron(sigma_0, sigma_y))\n",
    "gamma_4 = tinyarray.array(np.kron(sigma_0, sigma_x))\n",
    "\n",
    "B=-300\n",
    "g=300\n",
    "las=1\n",
    "m=30\n",
    "width=30\n",
    "\n",
    "def make_syst(width=30):\n",
    "    onsite =  m/2*gamma_1 - (4*B)/las**2 * gamma_2\n",
    "    hopping_x = B/(las**2)*gamma_2 + 1j*g/(2*las)*gamma_3\n",
    "    hopping_y = B/(las**2)*gamma_2 - 1j*g/(2*las)*gamma_4\n",
    "\n",
    "    ########### crystal structure\n",
    "    structure=kwant.lattice.square(las)\n",
    "\n",
    "    ########### create a translational invariant system\n",
    "    syst = kwant.Builder(kwant.TranslationalSymmetry((-las,0)))\n",
    "\n",
    "    def shape_y(pos):\n",
    "        x, y = pos\n",
    "        return 0 < y <= width\n",
    "\n",
    "    syst[structure.shape(shape_y,(0,1))] = onsite\n",
    "\n",
    "    syst[kwant.builder.HoppingKind((1,0), structure)]  = hopping_x\n",
    "    syst[kwant.builder.HoppingKind((0,1), structure)]  = hopping_y\n",
    "\n",
    "    return syst.finalized()  \n"
   ]
  },
  {
   "cell_type": "code",
   "execution_count": null,
   "metadata": {},
   "outputs": [],
   "source": [
    "fig, (ax1,ax2) = plt.subplots(1,2)\n",
    "fig.suptitle('band structure of left lead')\n",
    "\n",
    "for ax in (ax1,ax2):\n",
    "    ax.set_xlabel('k')\n",
    "    ax.set_ylabel('Energy')\n",
    "    ax.set_ylim(-150,150)\n",
    "    ax.set_xlim(-0.5,0.5)\n",
    "\n",
    "syst1=make_syst()\n",
    "syst2=make_syst(100)\n",
    "\n",
    "kwant.plotter.bands(syst1,momenta=np.linspace(-0.5, 0.5, 100), ax=ax1);\n",
    "kwant.plotter.bands(syst2,momenta=np.linspace(-0.5, 0.5, 100), ax=ax2);"
   ]
  },
  {
   "cell_type": "markdown",
   "metadata": {},
   "source": [
    "### clear code"
   ]
  },
  {
   "cell_type": "code",
   "execution_count": null,
   "metadata": {},
   "outputs": [],
   "source": [
    "import kwant\n",
    "import numpy as np\n",
    "import matplotlib.pyplot as plt\n",
    "import tinyarray\n",
    "\n",
    "sigma_0 = tinyarray.array([[1, 0], [0, 1]])\n",
    "sigma_x = tinyarray.array([[0, 1], [1, 0]])\n",
    "sigma_y = tinyarray.array([[0, -1j], [1j, 0]])\n",
    "sigma_z = tinyarray.array([[1, 0], [0, -1]])\n",
    "\n",
    "gamma_1 = tinyarray.array(np.kron(sigma_0, sigma_z))   \n",
    "gamma_2 = tinyarray.array(np.kron(sigma_z, sigma_z))  \n",
    "gamma_3 = tinyarray.array(np.kron(sigma_0, sigma_y))\n",
    "gamma_4 = tinyarray.array(np.kron(sigma_0, sigma_x))\n",
    "\n",
    "B=-300\n",
    "g=300\n",
    "las=1\n",
    "m=30\n",
    "width=30\n",
    "\n",
    "onsite =  m/2*gamma_1 - (4*B)/las**2 * gamma_2\n",
    "hopping_x = B/(las**2)*gamma_2 + 1j*g/(2*las)*gamma_3\n",
    "hopping_y = B/(las**2)*gamma_2 - 1j*g/(2*las)*gamma_4\n",
    "\n",
    "########### crystal structure\n",
    "structure=kwant.lattice.square(las)\n",
    "\n",
    "########### create a translational invariant system\n",
    "syst = kwant.Builder(kwant.TranslationalSymmetry((-las,0)))\n",
    "\n",
    "def shape_y(pos):\n",
    "    x, y = pos\n",
    "    return 0 < y <= width\n",
    "\n",
    "syst[structure.shape(shape_y,(0,1))] = onsite\n",
    "\n",
    "syst[kwant.builder.HoppingKind((1,0), structure)]  = hopping_x\n",
    "syst[kwant.builder.HoppingKind((0,1), structure)]  = hopping_y\n",
    "\n",
    "syst1 = syst.finalized()  \n",
    "\n"
   ]
  },
  {
   "cell_type": "code",
   "execution_count": null,
   "metadata": {},
   "outputs": [],
   "source": [
    "fig, ax4 = plt.subplots()\n",
    "ax4.set_title('band structure of the left lead')\n",
    "ax4.set_xlabel('k')\n",
    "ax4.set_ylabel('Energy')\n",
    "ax4.set_ylim(-150,150)\n",
    "ax4.set_xlim(-0.5,0.5)\n",
    "\n",
    "kwant.plotter.bands(syst1,momenta=np.linspace(-0.5, 0.5, 100), ax=ax4);"
   ]
  }
 ],
 "metadata": {
  "kernelspec": {
   "display_name": "XXY",
   "language": "python",
   "name": "python3"
  },
  "language_info": {
   "codemirror_mode": {
    "name": "ipython",
    "version": 3
   },
   "file_extension": ".py",
   "mimetype": "text/x-python",
   "name": "python",
   "nbconvert_exporter": "python",
   "pygments_lexer": "ipython3",
   "version": "3.9.21"
  }
 },
 "nbformat": 4,
 "nbformat_minor": 2
}
