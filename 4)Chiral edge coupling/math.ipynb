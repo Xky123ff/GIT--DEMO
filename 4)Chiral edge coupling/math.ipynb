{
 "cells": [
  {
   "cell_type": "code",
   "execution_count": 1,
   "id": "b191da8f",
   "metadata": {},
   "outputs": [],
   "source": [
    "import numpy as np\n",
    "import matplotlib.pyplot as plt"
   ]
  },
  {
   "cell_type": "code",
   "execution_count": 2,
   "id": "b1e2eb79",
   "metadata": {},
   "outputs": [],
   "source": [
    "def find_voltages(tmatrix,current):\n",
    "    try:\n",
    "        voltage = np.linalg.solve(tmatrix[1:, 1:], current[1:])\n",
    "    except np.linalg.LinAlgError as err:\n",
    "        if 'Singular matrix' in str(err):\n",
    "            print(\"Hi there, singular matrix here\")\n",
    "            voltage = [0,0,0,0,0]\n",
    "        else:\n",
    "            raise\n",
    "    return [0, *voltage]\n",
    "\n",
    "def resistance_xx(tmatrix):\n",
    "    current = [1, 0, 0, -1, 0, 0]\n",
    "    voltage = find_voltages(tmatrix,current)\n",
    "    \n",
    "    def resistance(lead1, lead2):\n",
    "        return voltage[lead1-1]-voltage[lead2-1]\n",
    "\n",
    "    return resistance(2, 3)\n",
    "\n",
    "def resistance_xy(tmatrix):\n",
    "    current = [1, 0, 0, -1, 0, 0]\n",
    "    voltage = find_voltages(tmatrix,current)\n",
    "    \n",
    "    def resistance(lead1, lead2):\n",
    "        return voltage[lead1-1]-voltage[lead2-1]\n",
    "\n",
    "    return resistance(2, 6)"
   ]
  },
  {
   "cell_type": "markdown",
   "id": "8076a1f1",
   "metadata": {},
   "source": [
    "# define G matrix"
   ]
  },
  {
   "cell_type": "code",
   "execution_count": 3,
   "id": "ebdf844f",
   "metadata": {},
   "outputs": [],
   "source": [
    "current= [-1, 0, 0, 1, 0, 0]\n",
    "\n",
    "def tmatrix(l,r):\n",
    "    return np.array([[l+r,-r,0,0,0,-l], [-l,l+r,-r,0,0,0], [0,-l,l+r,-r,0,0], [0,0,-l,l+r,-r,0], [0,0,0,-l,l+r,-r], [-r,0,0,0,-l,l+r] ])\n",
    "\n",
    "def pv(l,r):\n",
    "    plt.scatter(range(1,7), find_voltages(tmatrix(l,r),current))\n",
    "\n",
    "def rm(l,r):\n",
    "    return resistance_xx(tmatrix(l,r)), resistance_xy(tmatrix(l,r))"
   ]
  },
  {
   "cell_type": "code",
   "execution_count": 15,
   "id": "7e0e7e20",
   "metadata": {},
   "outputs": [
    {
     "name": "stdout",
     "output_type": "stream",
     "text": [
      "[[ 1 -1  0  0  0  0]\n",
      " [ 0  1 -1  0  0  0]\n",
      " [ 0  0  1 -1  0  0]\n",
      " [ 0  0  0  1 -1  0]\n",
      " [ 0  0  0  0  1 -1]\n",
      " [-1  0  0  0  0  1]]\n",
      "[0, np.float64(1.0), np.float64(1.0), np.float64(1.0), np.float64(0.0), np.float64(0.0)]\n"
     ]
    }
   ],
   "source": [
    "# 将两行代码都用 print() 函数包裹起来\n",
    "t = tmatrix(0, 1)\n",
    "print(t)\n",
    "voltages = find_voltages(t, current)\n",
    "print(voltages)"
   ]
  },
  {
   "cell_type": "code",
   "execution_count": null,
   "id": "9a379124",
   "metadata": {},
   "outputs": [
    {
     "data": {
      "text/plain": [
       "array([[ 1, -1,  0,  0,  0,  0],\n",
       "       [ 0,  1, -1,  0,  0,  0],\n",
       "       [ 0,  0,  1, -1,  0,  0],\n",
       "       [ 0,  0,  0,  1, -1,  0],\n",
       "       [ 0,  0,  0,  0,  1, -1],\n",
       "       [-1,  0,  0,  0,  0,  1]])"
      ]
     },
     "execution_count": 11,
     "metadata": {},
     "output_type": "execute_result"
    }
   ],
   "source": [
    "t=tmatrix(0,1)"
   ]
  },
  {
   "cell_type": "code",
   "execution_count": null,
   "id": "a688eb8c",
   "metadata": {},
   "outputs": [
    {
     "data": {
      "text/plain": [
       "[0,\n",
       " np.float64(1.0),\n",
       " np.float64(1.0),\n",
       " np.float64(1.0),\n",
       " np.float64(0.0),\n",
       " np.float64(0.0)]"
      ]
     },
     "execution_count": 12,
     "metadata": {},
     "output_type": "execute_result"
    }
   ],
   "source": [
    "find_voltages(t,current)"
   ]
  },
  {
   "cell_type": "code",
   "execution_count": 9,
   "id": "b77bb7f1",
   "metadata": {},
   "outputs": [
    {
     "data": {
      "text/plain": [
       "Text(0, 0.5, 'V/I')"
      ]
     },
     "execution_count": 9,
     "metadata": {},
     "output_type": "execute_result"
    },
    {
     "data": {
      "image/png": "[encoded data removed]",
      "text/plain": [
       "<Figure size 640x480 with 1 Axes>"
      ]
     },
     "metadata": {},
     "output_type": "display_data"
    }
   ],
   "source": [
    "pv(1,0)\n",
    "plt.xlabel('index of the leads')\n",
    "plt.ylabel('V/I')"
   ]
  },
  {
   "cell_type": "code",
   "execution_count": null,
   "id": "3da9ed9d",
   "metadata": {},
   "outputs": [],
   "source": []
  }
 ],
 "metadata": {
  "kernelspec": {
   "display_name": "xxy",
   "language": "python",
   "name": "python3"
  },
  "language_info": {
   "codemirror_mode": {
    "name": "ipython",
    "version": 3
   },
   "file_extension": ".py",
   "mimetype": "text/x-python",
   "name": "python",
   "nbconvert_exporter": "python",
   "pygments_lexer": "ipython3",
   "version": "3.9.23"
  }
 },
 "nbformat": 4,
 "nbformat_minor": 5
}
