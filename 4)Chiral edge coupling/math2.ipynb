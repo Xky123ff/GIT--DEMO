{
 "cells": [
  {
   "cell_type": "code",
   "execution_count": 1,
   "id": "b131bbee",
   "metadata": {},
   "outputs": [],
   "source": [
    "import kwant\n",
    "import numpy as np\n",
    "import matplotlib.pyplot as plt\n",
    "import tinyarray\n",
    "\n",
    "sigma_0 = tinyarray.array([[1, 0], [0, 1]])\n",
    "sigma_x = tinyarray.array([[0, 1], [1, 0]])\n",
    "sigma_y = tinyarray.array([[0, -1j], [1j, 0]])\n",
    "sigma_z = tinyarray.array([[1, 0], [0, -1]])\n",
    "\n",
    "I_4= tinyarray.array(np.kron(sigma_0, sigma_0))\n",
    "gamma_1 = tinyarray.array(np.kron(sigma_0, sigma_z))\n",
    "gamma_2 = tinyarray.array(np.kron(sigma_z, sigma_z))\n",
    "gamma_3 = tinyarray.array(np.kron(sigma_0, sigma_y))\n",
    "gamma_4 = tinyarray.array(np.kron(sigma_0, sigma_x))\n",
    "\n",
    "B=-300\n",
    "g=300\n",
    "las=1\n",
    "\n",
    "structure=kwant.lattice.square(las,norbs=4)\n",
    "model_sym= kwant.TranslationalSymmetry(structure.vec((-1,0)),structure.vec((0,-1)))\n",
    "\n",
    "def onsite(site,m):\n",
    "    return m/2*gamma_1 - (4*B)/las**2 * gamma_2\n",
    "\n",
    "hopping_x = B/(las**2)*gamma_2 + 1j*g/(2*las)*gamma_3\n",
    "hopping_y = B/(las**2)*gamma_2 - 1j*g/(2*las)*gamma_4\n",
    "\n",
    "def model_MTI():\n",
    "    model_1= kwant.Builder(model_sym)\n",
    "\n",
    "    model_1[structure(0, 0)] = onsite\n",
    "    model_1[kwant.builder.HoppingKind((1,0), structure)]  = hopping_x\n",
    "    model_1[kwant.builder.HoppingKind((0,1), structure)]  = hopping_y\n",
    "\n",
    "    return model_1\n",
    "\n",
    "def model_EG():\n",
    "\n",
    "    onsite_leads= 150 *I_4\n",
    "    hopping_leads= -150 *I_4\n",
    "\n",
    "    model_2= kwant.Builder(model_sym)\n",
    "    model_2[structure(0, 0)] = onsite_leads\n",
    "    model_2[structure.neighbors()]  = hopping_leads\n",
    "\n",
    "    return model_2\n",
    "\n",
    "def make_syst(width=50,length=100,leads_model=model_EG()):\n",
    "    \n",
    "    ########### create the scattering center\n",
    "\n",
    "    def shape_center(site):\n",
    "        x, y = site.pos\n",
    "        return 0 < x <= length and 0 < y <= width\n",
    "\n",
    "    syst= kwant.Builder()\n",
    "    syst.fill(model_MTI(), shape_center,(1,1))\n",
    "\n",
    "    ########### create the leads\n",
    "\n",
    "    width_lead = length//5\n",
    "\n",
    "    lead0= kwant.Builder(kwant.TranslationalSymmetry((-1,0)))\n",
    "    lead1= kwant.Builder(kwant.TranslationalSymmetry((0,1)))\n",
    "    lead2= kwant.Builder(kwant.TranslationalSymmetry((0,1)))\n",
    "\n",
    "    def shape_lead0(site):\n",
    "        x, y = site.pos\n",
    "        return 0 < y <= width\n",
    "\n",
    "    def shape_lead1(site):\n",
    "        x, y = site.pos\n",
    "        return width_lead < x <= 2*width_lead\n",
    "\n",
    "    def shape_lead2(site):\n",
    "        x, y = site.pos\n",
    "        return 3*width_lead < x <= 4*width_lead\n",
    "\n",
    "    lead0.fill(leads_model, shape_lead0, (0, 1))\n",
    "    lead1.fill(leads_model, shape_lead1, (width_lead+1, 0))\n",
    "    lead2.fill(leads_model, shape_lead2, (3*width_lead+1, 0))\n",
    "\n",
    "    ########### create the six-terminal device\n",
    "    for lead in [lead0,lead1,lead2, lead0.reversed(),lead2.reversed(),lead1.reversed()]:\n",
    "        syst.attach_lead(lead)\n",
    "\n",
    "    return syst.finalized()"
   ]
  },
  {
   "cell_type": "code",
   "execution_count": 2,
   "id": "9fac38db",
   "metadata": {},
   "outputs": [],
   "source": [
    "def find_voltages(tmatrix,current):\n",
    "    try:\n",
    "        voltage = np.linalg.solve(tmatrix[1:, 1:], current[1:])\n",
    "    except np.linalg.LinAlgError as err:\n",
    "        if 'Singular matrix' in str(err):\n",
    "            print(\"Hi there, singular matrix here\")\n",
    "            voltage = [0,0,0,0,0]\n",
    "        else:\n",
    "            raise\n",
    "    return [0, *voltage]"
   ]
  },
  {
   "cell_type": "code",
   "execution_count": 21,
   "id": "160e2f6a",
   "metadata": {},
   "outputs": [
    {
     "data": {
      "text/plain": [
       "array([[ 1.95, -0.41, -0.23, -0.67, -0.23, -0.41],\n",
       "       [-0.41,  1.86, -0.11, -0.23, -0.06, -1.05],\n",
       "       [-0.23, -0.11,  1.86, -0.41, -1.05, -0.06],\n",
       "       [-0.67, -0.23, -0.41,  1.95, -0.41, -0.23],\n",
       "       [-0.23, -0.06, -1.05, -0.41,  1.86, -0.11],\n",
       "       [-0.41, -1.05, -0.06, -0.23, -0.11,  1.86]])"
      ]
     },
     "execution_count": 21,
     "metadata": {},
     "output_type": "execute_result"
    }
   ],
   "source": [
    "syst=make_syst(width=60,length=300,leads_model=model_MTI())\n",
    "\n",
    "m_value = 0\n",
    "tmatrix = kwant.smatrix(syst,22,params=dict(m=m_value))\n",
    "conductance_mat = tmatrix.conductance_matrix()\n",
    "np.round(conductance_mat, 2)"
   ]
  },
  {
   "cell_type": "code",
   "execution_count": 14,
   "id": "707dd40c",
   "metadata": {},
   "outputs": [],
   "source": [
    "current= [-1, 0, 0, 1, 0, 0]\n"
   ]
  },
  {
   "cell_type": "code",
   "execution_count": 15,
   "id": "89623721",
   "metadata": {},
   "outputs": [
    {
     "data": {
      "text/plain": [
       "[0,\n",
       " np.float64(42.754473692739936),\n",
       " np.float64(42.770763983685164),\n",
       " np.float64(85.73132637390357),\n",
       " np.float64(42.97658268083354),\n",
       " np.float64(42.960292389641594)]"
      ]
     },
     "execution_count": 15,
     "metadata": {},
     "output_type": "execute_result"
    }
   ],
   "source": [
    "find_voltages(conductance_mat,current)"
   ]
  },
  {
   "cell_type": "code",
   "execution_count": null,
   "id": "dd9ec30f",
   "metadata": {},
   "outputs": [],
   "source": []
  },
  {
   "cell_type": "code",
   "execution_count": null,
   "id": "49abcee3",
   "metadata": {},
   "outputs": [],
   "source": []
  },
  {
   "cell_type": "code",
   "execution_count": null,
   "id": "d85e06e3",
   "metadata": {},
   "outputs": [],
   "source": []
  }
 ],
 "metadata": {
  "kernelspec": {
   "display_name": "xxy",
   "language": "python",
   "name": "python3"
  },
  "language_info": {
   "codemirror_mode": {
    "name": "ipython",
    "version": 3
   },
   "file_extension": ".py",
   "mimetype": "text/x-python",
   "name": "python",
   "nbconvert_exporter": "python",
   "pygments_lexer": "ipython3",
   "version": "3.9.23"
  }
 },
 "nbformat": 4,
 "nbformat_minor": 5
}
