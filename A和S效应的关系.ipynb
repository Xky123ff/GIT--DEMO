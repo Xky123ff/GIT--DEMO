{
 "cells": [
  {
   "cell_type": "code",
   "execution_count": 1,
   "id": "d4c458a7",
   "metadata": {},
   "outputs": [],
   "source": [
    "import numpy as np\n",
    "import matplotlib.pyplot as plt"
   ]
  },
  {
   "cell_type": "code",
   "execution_count": 2,
   "id": "dbb4ff6b",
   "metadata": {},
   "outputs": [],
   "source": [
    "def find_voltages(tmatrix,current):\n",
    "    try:\n",
    "        voltage = np.linalg.solve(tmatrix[1:, 1:], current[1:])\n",
    "    except np.linalg.LinAlgError as err:\n",
    "        if 'Singular matrix' in str(err):\n",
    "            print(\"Hi there, singular matrix here\")\n",
    "            voltage = [0,0,0,0,0]\n",
    "        else:\n",
    "            raise\n",
    "    return [0, *voltage]\n",
    "\n",
    "def resistance_xx(tmatrix):\n",
    "    current = [1, 0, 0, -1, 0, 0]\n",
    "    voltage = find_voltages(tmatrix,current)\n",
    "    \n",
    "    def resistance(lead1, lead2):\n",
    "        return voltage[lead1-1]-voltage[lead2-1]\n",
    "\n",
    "    return resistance(2, 3)\n",
    "\n",
    "def resistance_xy(tmatrix):\n",
    "    current = [1, 0, 0, -1, 0, 0]\n",
    "    voltage = find_voltages(tmatrix,current)\n",
    "    \n",
    "    def resistance(lead1, lead2):\n",
    "        return voltage[lead1-1]-voltage[lead2-1]\n",
    "\n",
    "    return resistance(2, 6)"
   ]
  },
  {
   "cell_type": "code",
   "execution_count": 3,
   "id": "0a4011f5",
   "metadata": {},
   "outputs": [],
   "source": [
    "current= [-1, 0, 0, 1, 0, 0]\n",
    "\n",
    "def tmatrix(l,r):\n",
    "    return np.array([[l+r,-r,0,0,0,-l], [-l,l+r,-r,0,0,0], [0,-l,l+r,-r,0,0], [0,0,-l,l+r,-r,0], [0,0,0,-l,l+r,-r], [-r,0,0,0,-l,l+r] ])\n",
    "\n",
    "def pv(l,r):\n",
    "    plt.scatter(range(1,7), find_voltages(tmatrix(l,r),current))\n",
    "\n",
    "def rm(l,r):\n",
    "    return resistance_xx(tmatrix(l,r)), resistance_xy(tmatrix(l,r))"
   ]
  },
  {
   "cell_type": "code",
   "execution_count": null,
   "id": "9d80d68c",
   "metadata": {},
   "outputs": [],
   "source": [
    "pv(1,0)\n",
    "plt.title(\"QAHE\", size='xx-large');\n",
    "plt.xlabel('index of the leads')\n",
    "plt.ylabel('V/I')"
   ]
  },
  {
   "cell_type": "code",
   "execution_count": null,
   "id": "2b266d73",
   "metadata": {},
   "outputs": [],
   "source": []
  },
  {
   "cell_type": "code",
   "execution_count": null,
   "id": "b888c670",
   "metadata": {},
   "outputs": [],
   "source": []
  }
 ],
 "metadata": {
  "kernelspec": {
   "display_name": "xxy",
   "language": "python",
   "name": "python3"
  },
  "language_info": {
   "codemirror_mode": {
    "name": "ipython",
    "version": 3
   },
   "file_extension": ".py",
   "mimetype": "text/x-python",
   "name": "python",
   "nbconvert_exporter": "python",
   "pygments_lexer": "ipython3",
   "version": "3.9.23"
  }
 },
 "nbformat": 4,
 "nbformat_minor": 5
}
