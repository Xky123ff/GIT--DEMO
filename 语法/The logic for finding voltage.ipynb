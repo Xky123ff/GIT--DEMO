{
 "cells": [
  {
   "cell_type": "markdown",
   "id": "67a8baae",
   "metadata": {},
   "source": [
    "# The logic for finding voltage\n",
    "Accoring to the tmatrix and current I to get the v"
   ]
  },
  {
   "cell_type": "code",
   "execution_count": null,
   "id": "c389ddcf",
   "metadata": {},
   "outputs": [
    {
     "ename": "",
     "evalue": "",
     "output_type": "error",
     "traceback": [
      "\u001b[1;31m无法启动 Kernel。 \n",
      "\u001b[1;31mBad file descriptor (D:\\bld\\zeromq_1715606877726\\work\\src\\epoll.cpp:73). \n",
      "\u001b[1;31m有关更多详细信息，请查看 Jupyter <a href='command:jupyter.viewOutput'>log</a>。"
     ]
    }
   ],
   "source": [
    "import kwant\n",
    "import numpy as np\n",
    "import matplotlib.pyplot as plt\n",
    "import tinyarray\n",
    "\n",
    "sigma_0 = tinyarray.array([[1, 0], [0, 1]])\n",
    "sigma_x = tinyarray.array([[0, 1], [1, 0]])\n",
    "sigma_y = tinyarray.array([[0, -1j], [1j, 0]])\n",
    "sigma_z = tinyarray.array([[1, 0], [0, -1]])\n",
    "\n",
    "I_4= tinyarray.array(np.kron(sigma_0, sigma_0))\n",
    "gamma_1 = tinyarray.array(np.kron(sigma_0, sigma_z))\n",
    "gamma_2 = tinyarray.array(np.kron(sigma_z, sigma_z))\n",
    "gamma_3 = tinyarray.array(np.kron(sigma_0, sigma_y))\n",
    "gamma_4 = tinyarray.array(np.kron(sigma_0, sigma_x))\n",
    "\n",
    "B=-300\n",
    "g=300\n",
    "las=1\n",
    "m=30\n",
    "width=30\n",
    "\n",
    "def make_syst(width=60,length=300):\n",
    "    \n",
    "    onsite =  m/2*gamma_1 - (4*B)/las**2 * gamma_2\n",
    "    hopping_x = B/(las**2)*gamma_2 + 1j*g/(2*las)*gamma_3\n",
    "    hopping_y = B/(las**2)*gamma_2 - 1j*g/(2*las)*gamma_4\n",
    "\n",
    "    def model():\n",
    "        structure=kwant.lattice.square(las)\n",
    "        model_sym= kwant.TranslationalSymmetry(structure.vec((-1,0)),structure.vec((0,-1)))\n",
    "        model_1= kwant.Builder(model_sym)\n",
    "\n",
    "        model_1[structure(0, 0)] = onsite\n",
    "        model_1[kwant.builder.HoppingKind((1,0), structure)]  = hopping_x\n",
    "        model_1[kwant.builder.HoppingKind((0,1), structure)]  = hopping_y\n",
    "\n",
    "        return model_1\n",
    "\n",
    "    ########### create the scattering center\n",
    "\n",
    "    def shape_center(site):\n",
    "        x, y = site.pos\n",
    "        return 0 < x <= length and 0 < y <= width\n",
    "\n",
    "    syst= kwant.Builder()\n",
    "    syst.fill(model(), shape_center,(1,1))\n",
    "\n",
    "    ########### create the leads\n",
    "\n",
    "    def electronGas_model():\n",
    "        structure=kwant.lattice.square(las)\n",
    "\n",
    "        onsite_leads= 150 *I_4\n",
    "        hopping_leads= -150 *I_4\n",
    "\n",
    "        model_sym= kwant.TranslationalSymmetry(structure.vec((-1,0)),structure.vec((0,-1)))\n",
    "        model_1= kwant.Builder(model_sym)\n",
    "\n",
    "        model_1[structure(0, 0)] = onsite_leads\n",
    "        model_1[structure.neighbors()]  = hopping_leads\n",
    "\n",
    "        return model_1\n",
    "\n",
    "    width_lead = length//5 \n",
    "\n",
    "    lead0= kwant.Builder(kwant.TranslationalSymmetry((-1,0)))\n",
    "    lead1= kwant.Builder(kwant.TranslationalSymmetry((0,1)))\n",
    "    lead2= kwant.Builder(kwant.TranslationalSymmetry((0,1)))\n",
    "\n",
    "    def shape_lead0(site):\n",
    "        x, y = site.pos\n",
    "        return 0 < y <= width\n",
    "\n",
    "    def shape_lead1(site):\n",
    "        x, y = site.pos\n",
    "        return width_lead < x <= 2*width_lead\n",
    "\n",
    "    def shape_lead2(site):\n",
    "        x, y = site.pos\n",
    "        return 3*width_lead < x <= 4*width_lead\n",
    "\n",
    "    lead0.fill(electronGas_model(), shape_lead0, (0, 1))\n",
    "    lead1.fill(electronGas_model(), shape_lead1, (width_lead+1, 0))\n",
    "    lead2.fill(electronGas_model(), shape_lead2, (3*width_lead+1, 0))\n",
    "\n",
    "    ########### create the six-terminal device\n",
    "    for lead in [lead0,lead1,lead2, lead0.reversed(),lead2.reversed(),lead1.reversed()]:\n",
    "        syst.attach_lead(lead)\n",
    "\n",
    "\n",
    "    return syst.finalized()  "
   ]
  },
  {
   "cell_type": "code",
   "execution_count": null,
   "id": "2c4487ab",
   "metadata": {},
   "outputs": [],
   "source": [
    "def find_voltages(tmatrix,current):\n",
    "    try:\n",
    "        voltage = np.linalg.solve(tmatrix, current)\n",
    "    except np.linalg.LinAlgError as err:\n",
    "        if 'Singular matrix' in str(err):\n",
    "            print(\"Hi there, singular matrix here\")\n",
    "            voltage = [0,0,0,0,0,0]\n",
    "        else:\n",
    "            raise\n",
    "    return [*voltage]"
   ]
  },
  {
   "cell_type": "code",
   "execution_count": null,
   "id": "115713ee",
   "metadata": {},
   "outputs": [],
   "source": [
    "smatrix = kwant.smatrix(make_syst(), 9.0)\n",
    "tmatrix=smatrix.conductance_matrix()\n",
    "np.round(tmatrix,1)"
   ]
  },
  {
   "cell_type": "code",
   "execution_count": null,
   "id": "79869af5",
   "metadata": {},
   "outputs": [],
   "source": [
    "def find_voltages(tmatrix,current):  #注意：该函数返回的V是所有V的矩阵        #tmatrix是传输矩阵，在此处还未定义，current是电流分布[1, 0, 0, -1, 0, 0] 表示电流从端口1流入，端口4流出。\n",
    "    try:                                                            #np.linalg.solve()函数用于求解线性方程组，返回值是一个数组，数组中的每个元素是一个未知数的解   \n",
    "        voltage = np.linalg.solve(tmatrix, current)     #tmatrix[1:, 1:]表示tmatrix的第一行和第一列被删去 current[1:]表示current的第一个元素被删去  \n",
    "    except np.linalg.LinAlgError as err:                            #当检测到奇异矩阵时，即该函数无解，避免程序崩溃，强制返回零电压\n",
    "        if 'Singular matrix' in str(err):\n",
    "            print(\"Hi there, singular matrix here\")\n",
    "            voltage = [0,0,0,0,0,0]\n",
    "        else:\n",
    "            raise\n",
    "    return [ *voltage]"
   ]
  },
  {
   "cell_type": "code",
   "execution_count": null,
   "id": "172a3ed8",
   "metadata": {},
   "outputs": [],
   "source": [
    "find_voltages(tmatrix, [1, 0, 0, -1, 0, 0])  #电流从端口1流入，端口4流出，其他端口无电流流入或流出"
   ]
  }
 ],
 "metadata": {
  "kernelspec": {
   "display_name": "XXY",
   "language": "python",
   "name": "python3"
  },
  "language_info": {
   "codemirror_mode": {
    "name": "ipython",
    "version": 3
   },
   "file_extension": ".py",
   "mimetype": "text/x-python",
   "name": "python",
   "nbconvert_exporter": "python",
   "pygments_lexer": "ipython3",
   "version": "3.9.21"
  }
 },
 "nbformat": 4,
 "nbformat_minor": 5
}
